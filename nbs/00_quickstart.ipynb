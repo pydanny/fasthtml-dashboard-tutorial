{
 "cells": [
  {
   "cell_type": "markdown",
   "metadata": {},
   "source": [
    "# Quickstart\n",
    "\n",
    "> Eager to get started? This page gives a good introduction to FastHTML.    "
   ]
  },
  {
   "cell_type": "code",
   "execution_count": null,
   "metadata": {},
   "outputs": [],
   "source": [
    "#| default_exp core"
   ]
  },
  {
   "cell_type": "code",
   "execution_count": null,
   "metadata": {},
   "outputs": [],
   "source": [
    "#| hide\n",
    "from nbdev.showdoc import *"
   ]
  },
  {
   "cell_type": "markdown",
   "metadata": {},
   "source": [
    "## Installation"
   ]
  },
  {
   "cell_type": "code",
   "execution_count": null,
   "metadata": {
    "vscode": {
     "languageId": "shellscript"
    }
   },
   "outputs": [],
   "source": [
    "pip install python-fasthtml"
   ]
  },
  {
   "cell_type": "markdown",
   "metadata": {},
   "source": [
    "## A Minimal Application\n",
    "\n",
    "A minimal FastHTML application looks something like this:"
   ]
  },
  {
   "cell_type": "markdown",
   "metadata": {},
   "source": [
    "```python\n",
    "from fasthtml.fastapp import * \n",
    "\n",
    "app = fast_app()\n",
    "\n",
    "@app.get(\"/\")\n",
    "def home():\n",
    "  return Titled(\"FastHTML\", P(\"Let's do this!\"))\n",
    "\n",
    "run_uv()\n",
    "```"
   ]
  },
  {
   "cell_type": "markdown",
   "metadata": {},
   "source": [
    "What does that code do?\n",
    "\n",
    "1. First we imported the FastHTML namespace on line 1. This is a carefully specified set of functions designed to optimize development. \n",
    "\n",
    "2. Next on line 3 we instantiate the FastHTML app with the `fast_app()` utility function. This provides a number of really useful defaults that we'll take advantage of later in the tutorial. \n",
    "\n",
    "3. Then on line 5 we use the `app.get()` decorator to tell FastTML what URL should trigger our view function if visited with an HTTP GET. By HTTP GET we mean \"go to that location in our browser\"\n",
    "\n",
    "4. Line 6 is where we define our function name.\n",
    "\n",
    "5. On line 7 we return several functions that describe all the HTML required to write a properly formed web page.\n",
    "\n",
    "6. Finally, on line 9 the `run_uv()` utility configures and runs FastHTML using a library called `uvicorn`.\n",
    "\n",
    "Run the code above by entering this command in the terminal:\n",
    "\n",
    "```bash\n",
    "python main.py\n",
    "```\n",
    "\n",
    "The terminal should send out some text that looks like this:\n",
    "\n",
    "```bash\n",
    "INFO:     Uvicorn running on http://0.0.0.0:5001 (Press CTRL+C to quit)\n",
    "INFO:     Started reloader process [58058] using WatchFiles\n",
    "INFO:     Started server process [58060]\n",
    "INFO:     Waiting for application startup.\n",
    "INFO:     Application startup complete.\n",
    "```"
   ]
  },
  {
   "cell_type": "markdown",
   "metadata": {},
   "source": [
    "Confirm FastHTML is running by opening your web browser to this linl: [127.0.0.1:5001](http://127.0.0.1:5001). You should see something like the image below:\n",
    "\n",
    "TODO add image\n",
    "\n",
    "We did it! Now that we've got the program running, let's view the source of the HTML page. It should look something like this:\n",
    "\n",
    "```html\n",
    "<!DOCTYPE html>\n",
    "\n",
    "<html>\n",
    "  <head>\n",
    "    <title>FastHTML</title>\n",
    "    <script src=\"https://unpkg.com/htmx.org@next/dist/htmx.min.js\"></script>\n",
    "    <script src=\"https://cdn.jsdelivr.net/gh/gnat/surreal/surreal.js\"></script>\n",
    "    <script src=\"https://cdn.jsdelivr.net/gh/gnat/css-scope-inline/script.js\"></script>\n",
    "    <link rel=\"stylesheet\" href=\"https://cdn.jsdelivr.net/npm/@picocss/pico@latest/css/pico.min.css\">\n",
    "    <style>:root { --pico-font-size: 100%; }</style>\n",
    "  </head>\n",
    "  <body>\n",
    "<main class=\"container\">\n",
    "  <h1>FastHTML</h1>\n",
    "  <p>Let&#x27;s do this!!!</p>\n",
    "</main>\n",
    "  </body>\n",
    "</html>\n",
    "```"
   ]
  },
  {
   "cell_type": "markdown",
   "metadata": {},
   "source": [
    "## Routing\n",
    "\n",
    "Friendly URLs are intuitive and helpful to users, and easier to maintain for coders. Users are more likely to use your project if they can remember URLs without much effort. Fortunately, FastHTML uses the Python community's common pattern for specifying URLs.\n",
    "\n",
    "```{.python filename=\"main.py\" code-line-numbers=\"true\"}\n",
    "from fasthtml.fastapp import * \n",
    "\n",
    "app = fast_app()\n",
    "\n",
    "@app.get(\"/\")  # <1>\n",
    "def home():\n",
    "  return Titled(\"FastHTML\", P(\"Let's do this!\"))\n",
    "\n",
    "@app.get(\"/hello\")  # <2>\n",
    "def hello():\n",
    "  return Titled(\"Hello, world!\")\n",
    "\n",
    "run_uv()\n",
    "```\n",
    "\n",
    "1. The \"/\" URL on line 5 is the home of a project. This would be accessed at [127.0.0.1:5001](http://127.0.0.1:5001).\n",
    "2. \"/hello\" URL on line 9 will be found by the project if the user visits [127.0.0.1:5001/hello](http://127.0.0.1:5001/hello).\n",
    "\n",
    "You can do more! Read on to learn what we can do to make parts of the URL dynamic.\n",
    "\n",
    "## Variable in URLs\n",
    "\n",
    "You can add variable sections to a URL by marking sections with `{variable_name}`. Your function then receives the `{variable_name}` as a keyword argument, but only if it is the correct type. Here's an example:\n",
    "\n",
    "```{.python filename=\"main.py\" code-line-numbers=\"true\"}\n",
    "from fasthtml.fastapp import * \n",
    "\n",
    "app = fast_app()\n",
    "\n",
    "@app.get(\"/\")\n",
    "def home():\n",
    "  return Titled(\"FastHTML\", P(\"Let's do this!\"))\n",
    "\n",
    "@app.get(\"/{name}/{age}\")  # <3>\n",
    "def namer(name: str, age: int):  # <4>\n",
    "  return Titled(f\"Hello {name.title()}, age {age}\")  # <5>\n",
    "\n",
    "run_uv()\n",
    "```\n",
    "\n",
    "3. On line 9 we specify two variable names, `name` and `age`\n",
    "4. On line 10 we define two function arguments named identically to the variables. You will note that we specify the Python types to be passed\n",
    "5. On line 11, we use these functions in our project\n",
    "\n",
    "Try it out by going to this address: [127.0.0.1:5001/uma/5](http://127.0.0.1:5001/uma/5). You should get a page that says,\n",
    "\n",
    "> \"Hello Uma, age 5\".\n",
    "\n",
    "\n",
    "### What happens if we enter incorrect data?\n",
    "\n",
    "The [127.0.0.1:5001/uma/5](http://127.0.0.1:5001/uma/5) URL works because `5` is an integer. If we enter something that is not, such as [127.0.0.1:5001/uma/five](http://127.0.0.1:5001/uma/five), then FastHTML will return an error instead of a web page.\n",
    "\n",
    "::: {.callout-note}\n",
    "### FastHTML URL routing supports more complex types\n",
    "\n",
    "The two examples we provide here use Python's built-in `str` and `int` types, but you can use your own types, including more complex ones such as those defined by libraries like [attrs](https://pypi.org/project/attrs/), [pydantic](https://pypi.org/project/pydantic/), and even [sqlmodel](https://pypi.org/project/attrs/). \n",
    ":::\n",
    "\n",
    "\n",
    "## HTTP Methods\n",
    "\n",
    "Most commonly URL routes for web apps are defined as HTTP GET methods. However, form submissions often are sent as HTTP POST. When dealing with more dynamic web page designs, also known as Single Page Apps (SPA for short), the need can arise for other methods such as HTTP PUT and HTTP DELETE. The way FastHTML handles this is by changing the decorator.\n",
    "\n",
    "```{.python filename=\"main.py\" code-line-numbers=\"true\"}\n",
    "from fasthtml.fastapp import * \n",
    "\n",
    "app = fast_app()\n",
    "\n",
    "@app.get(\"/\")  # <6>\n",
    "def handle_get():\n",
    "  return Titled(\"HTTP GET\", P(\"Handle GET\"))\n",
    "\n",
    "@app.post(\"/\")  # <7>\n",
    "def handle_post():\n",
    "  return Titled(\"HTTP POST\", P(\"Handle POST\"))\n",
    "\n",
    "run_uv()\n",
    "```\n",
    "\n",
    "6. On line 5 the `app.get()` decorator is used\n",
    "7. On line 10 the `app.post()` decorator is used\n",
    "\n",
    "\n",
    "\n",
    "\n"
   ]
  },
  {
   "cell_type": "markdown",
   "metadata": {},
   "source": []
  },
  {
   "cell_type": "code",
   "execution_count": null,
   "metadata": {},
   "outputs": [],
   "source": [
    "#| hide\n",
    "import nbdev; nbdev.nbdev_export()"
   ]
  }
 ],
 "metadata": {
  "kernelspec": {
   "display_name": "python3",
   "language": "python",
   "name": "python3"
  },
  "language_info": {
   "codemirror_mode": {
    "name": "ipython",
    "version": 3
   },
   "file_extension": ".py",
   "mimetype": "text/x-python",
   "name": "python",
   "nbconvert_exporter": "python",
   "pygments_lexer": "ipython3",
   "version": "3.12.3"
  }
 },
 "nbformat": 4,
 "nbformat_minor": 4
}
